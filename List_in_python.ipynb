{
 "cells": [
  {
   "cell_type": "code",
   "execution_count": 2,
   "id": "19887346",
   "metadata": {},
   "outputs": [],
   "source": [
    "# list methods Id of list does not change\n",
    "\n",
    "l=[1,2,3,\"pooja\", 10+5j, True, \"abishek\"]"
   ]
  },
  {
   "cell_type": "code",
   "execution_count": 3,
   "id": "9c6cb6e9",
   "metadata": {},
   "outputs": [
    {
     "name": "stdout",
     "output_type": "stream",
     "text": [
      "[1, 2, 3, 'pooja', (10+5j), True, 'abishek']\n"
     ]
    }
   ],
   "source": [
    "print(l)"
   ]
  },
  {
   "cell_type": "code",
   "execution_count": 4,
   "id": "4cbb2276",
   "metadata": {},
   "outputs": [
    {
     "data": {
      "text/plain": [
       "2248795551744"
      ]
     },
     "execution_count": 4,
     "metadata": {},
     "output_type": "execute_result"
    }
   ],
   "source": [
    "id(l)"
   ]
  },
  {
   "cell_type": "code",
   "execution_count": 5,
   "id": "78d14c01",
   "metadata": {},
   "outputs": [],
   "source": [
    "#append method (single element and last append)\n",
    "\n",
    "l.append(43)"
   ]
  },
  {
   "cell_type": "code",
   "execution_count": 6,
   "id": "f7828030",
   "metadata": {},
   "outputs": [
    {
     "name": "stdout",
     "output_type": "stream",
     "text": [
      "[1, 2, 3, 'pooja', (10+5j), True, 'abishek', 43]\n"
     ]
    }
   ],
   "source": [
    "print(l)"
   ]
  },
  {
   "cell_type": "code",
   "execution_count": 7,
   "id": "bca01d70",
   "metadata": {},
   "outputs": [
    {
     "data": {
      "text/plain": [
       "2248795551744"
      ]
     },
     "execution_count": 7,
     "metadata": {},
     "output_type": "execute_result"
    }
   ],
   "source": [
    "id(l)"
   ]
  },
  {
   "cell_type": "code",
   "execution_count": 8,
   "id": "02a3308c",
   "metadata": {},
   "outputs": [],
   "source": [
    "# insert method id does not change add element at any position\n",
    "\n",
    "#l.insert(position, element)\n",
    "l.insert(1,\"yogesh\")"
   ]
  },
  {
   "cell_type": "code",
   "execution_count": 9,
   "id": "3a1bff44",
   "metadata": {},
   "outputs": [
    {
     "name": "stdout",
     "output_type": "stream",
     "text": [
      "[1, 'yogesh', 2, 3, 'pooja', (10+5j), True, 'abishek', 43]\n"
     ]
    }
   ],
   "source": [
    "print(l)"
   ]
  },
  {
   "cell_type": "code",
   "execution_count": 10,
   "id": "e596db5b",
   "metadata": {},
   "outputs": [
    {
     "data": {
      "text/plain": [
       "2248795551744"
      ]
     },
     "execution_count": 10,
     "metadata": {},
     "output_type": "execute_result"
    }
   ],
   "source": [
    "id(l)"
   ]
  },
  {
   "cell_type": "code",
   "execution_count": 12,
   "id": "7d835595",
   "metadata": {},
   "outputs": [],
   "source": [
    "# extend method Add multiple elements\n",
    "\n",
    "# l.extend([element,\"element\"])\n",
    "\n",
    "l.extend([12, \"sonu\"])"
   ]
  },
  {
   "cell_type": "code",
   "execution_count": 13,
   "id": "1c7442fd",
   "metadata": {},
   "outputs": [
    {
     "name": "stdout",
     "output_type": "stream",
     "text": [
      "[1, 'yogesh', 2, 3, 'pooja', (10+5j), True, 'abishek', 43, 12, 'sonu']\n"
     ]
    }
   ],
   "source": [
    "print(l)"
   ]
  },
  {
   "cell_type": "code",
   "execution_count": 14,
   "id": "397ee596",
   "metadata": {},
   "outputs": [
    {
     "data": {
      "text/plain": [
       "9"
      ]
     },
     "execution_count": 14,
     "metadata": {},
     "output_type": "execute_result"
    }
   ],
   "source": [
    "# index method-first occurance of the element\n",
    "\n",
    "l.index(12)"
   ]
  },
  {
   "cell_type": "code",
   "execution_count": 15,
   "id": "4851e91f",
   "metadata": {},
   "outputs": [],
   "source": [
    "# how to find the occurance of the next presence of the same element?"
   ]
  },
  {
   "cell_type": "code",
   "execution_count": 16,
   "id": "1792468c",
   "metadata": {},
   "outputs": [
    {
     "data": {
      "text/plain": [
       "1"
      ]
     },
     "execution_count": 16,
     "metadata": {},
     "output_type": "execute_result"
    }
   ],
   "source": [
    "# count method\n",
    "\n",
    "l.count(2)"
   ]
  },
  {
   "cell_type": "code",
   "execution_count": 17,
   "id": "d60c27c6",
   "metadata": {},
   "outputs": [],
   "source": [
    "# sorting method\n",
    "\n",
    "l1=[12,1,5,6,15,23]"
   ]
  },
  {
   "cell_type": "code",
   "execution_count": 18,
   "id": "2df8eb80",
   "metadata": {},
   "outputs": [],
   "source": [
    "l1.sort()"
   ]
  },
  {
   "cell_type": "code",
   "execution_count": 19,
   "id": "b126988f",
   "metadata": {},
   "outputs": [
    {
     "name": "stdout",
     "output_type": "stream",
     "text": [
      "[1, 5, 6, 12, 15, 23]\n"
     ]
    }
   ],
   "source": [
    "print(l1)"
   ]
  },
  {
   "cell_type": "code",
   "execution_count": 20,
   "id": "13513fea",
   "metadata": {},
   "outputs": [],
   "source": [
    "l1.sort(reverse=True)"
   ]
  },
  {
   "cell_type": "code",
   "execution_count": 21,
   "id": "b3f7fec9",
   "metadata": {},
   "outputs": [
    {
     "name": "stdout",
     "output_type": "stream",
     "text": [
      "[23, 15, 12, 6, 5, 1]\n"
     ]
    }
   ],
   "source": [
    "print(l1)"
   ]
  },
  {
   "cell_type": "code",
   "execution_count": 22,
   "id": "eb552525",
   "metadata": {},
   "outputs": [
    {
     "data": {
      "text/plain": [
       "[23, 15, 12, 6, 5, 1]"
      ]
     },
     "execution_count": 22,
     "metadata": {},
     "output_type": "execute_result"
    }
   ],
   "source": [
    "l1"
   ]
  },
  {
   "cell_type": "code",
   "execution_count": 23,
   "id": "9bbaeb4a",
   "metadata": {},
   "outputs": [
    {
     "data": {
      "text/plain": [
       "[1, 5, 6, 12, 15, 23]"
      ]
     },
     "execution_count": 23,
     "metadata": {},
     "output_type": "execute_result"
    }
   ],
   "source": [
    "sorted(l1)"
   ]
  },
  {
   "cell_type": "code",
   "execution_count": 27,
   "id": "be2cd142",
   "metadata": {},
   "outputs": [],
   "source": [
    "l1=sorted(l1)"
   ]
  },
  {
   "cell_type": "code",
   "execution_count": 28,
   "id": "37370ee6",
   "metadata": {},
   "outputs": [
    {
     "data": {
      "text/plain": [
       "[1, 5, 6, 12, 15, 23]"
      ]
     },
     "execution_count": 28,
     "metadata": {},
     "output_type": "execute_result"
    }
   ],
   "source": [
    "l1"
   ]
  },
  {
   "cell_type": "code",
   "execution_count": 29,
   "id": "8e3a9d65",
   "metadata": {},
   "outputs": [],
   "source": [
    "l1=sorted(l1,reverse=True)"
   ]
  },
  {
   "cell_type": "code",
   "execution_count": 30,
   "id": "6902c1f6",
   "metadata": {},
   "outputs": [
    {
     "data": {
      "text/plain": [
       "[23, 15, 12, 6, 5, 1]"
      ]
     },
     "execution_count": 30,
     "metadata": {},
     "output_type": "execute_result"
    }
   ],
   "source": [
    "l1"
   ]
  },
  {
   "cell_type": "code",
   "execution_count": 31,
   "id": "9baef8e4",
   "metadata": {},
   "outputs": [],
   "source": [
    "# pop--it requires position of element"
   ]
  },
  {
   "cell_type": "code",
   "execution_count": 32,
   "id": "42ff157e",
   "metadata": {},
   "outputs": [
    {
     "data": {
      "text/plain": [
       "1"
      ]
     },
     "execution_count": 32,
     "metadata": {},
     "output_type": "execute_result"
    }
   ],
   "source": [
    "l1.pop()"
   ]
  },
  {
   "cell_type": "code",
   "execution_count": 33,
   "id": "a32b03cf",
   "metadata": {},
   "outputs": [
    {
     "data": {
      "text/plain": [
       "12"
      ]
     },
     "execution_count": 33,
     "metadata": {},
     "output_type": "execute_result"
    }
   ],
   "source": [
    "l1.pop(2)"
   ]
  },
  {
   "cell_type": "code",
   "execution_count": 34,
   "id": "984f57ac",
   "metadata": {},
   "outputs": [],
   "source": [
    "# remove method--it requires element value"
   ]
  },
  {
   "cell_type": "code",
   "execution_count": 35,
   "id": "970e0dfd",
   "metadata": {},
   "outputs": [],
   "source": [
    "l1.remove(6)"
   ]
  },
  {
   "cell_type": "code",
   "execution_count": 36,
   "id": "aac11ede",
   "metadata": {},
   "outputs": [
    {
     "data": {
      "text/plain": [
       "[23, 15, 5]"
      ]
     },
     "execution_count": 36,
     "metadata": {},
     "output_type": "execute_result"
    }
   ],
   "source": [
    "l1"
   ]
  },
  {
   "cell_type": "code",
   "execution_count": 37,
   "id": "06bd2376",
   "metadata": {},
   "outputs": [],
   "source": [
    "# clear method--empty the list"
   ]
  },
  {
   "cell_type": "code",
   "execution_count": 38,
   "id": "11f62929",
   "metadata": {},
   "outputs": [],
   "source": [
    "l1.clear()"
   ]
  },
  {
   "cell_type": "code",
   "execution_count": 39,
   "id": "3d61811f",
   "metadata": {},
   "outputs": [
    {
     "data": {
      "text/plain": [
       "[]"
      ]
     },
     "execution_count": 39,
     "metadata": {},
     "output_type": "execute_result"
    }
   ],
   "source": [
    "l1"
   ]
  },
  {
   "cell_type": "code",
   "execution_count": 40,
   "id": "11cc5694",
   "metadata": {},
   "outputs": [],
   "source": [
    "# del is a keyword"
   ]
  },
  {
   "cell_type": "code",
   "execution_count": 41,
   "id": "ca5a1161",
   "metadata": {},
   "outputs": [],
   "source": [
    "l=[45,25,63,\"yogesh\"]"
   ]
  },
  {
   "cell_type": "code",
   "execution_count": 44,
   "id": "caae3bd2",
   "metadata": {},
   "outputs": [],
   "source": [
    "del l[2]"
   ]
  },
  {
   "cell_type": "code",
   "execution_count": 45,
   "id": "19cf9c96",
   "metadata": {},
   "outputs": [
    {
     "data": {
      "text/plain": [
       "[45, 25, 'yogesh']"
      ]
     },
     "execution_count": 45,
     "metadata": {},
     "output_type": "execute_result"
    }
   ],
   "source": [
    "l"
   ]
  },
  {
   "cell_type": "code",
   "execution_count": 46,
   "id": "7de990c2",
   "metadata": {},
   "outputs": [],
   "source": [
    "del l[::1]"
   ]
  },
  {
   "cell_type": "code",
   "execution_count": 47,
   "id": "8aba729f",
   "metadata": {},
   "outputs": [
    {
     "data": {
      "text/plain": [
       "[]"
      ]
     },
     "execution_count": 47,
     "metadata": {},
     "output_type": "execute_result"
    }
   ],
   "source": [
    "l"
   ]
  },
  {
   "cell_type": "code",
   "execution_count": 49,
   "id": "5776d669",
   "metadata": {},
   "outputs": [],
   "source": [
    "del l"
   ]
  },
  {
   "cell_type": "code",
   "execution_count": 50,
   "id": "6ca30d2e",
   "metadata": {},
   "outputs": [
    {
     "ename": "NameError",
     "evalue": "name 'l' is not defined",
     "output_type": "error",
     "traceback": [
      "\u001b[1;31m---------------------------------------------------------------------------\u001b[0m",
      "\u001b[1;31mNameError\u001b[0m                                 Traceback (most recent call last)",
      "Cell \u001b[1;32mIn[50], line 1\u001b[0m\n\u001b[1;32m----> 1\u001b[0m \u001b[43ml\u001b[49m\n",
      "\u001b[1;31mNameError\u001b[0m: name 'l' is not defined"
     ]
    }
   ],
   "source": [
    "l"
   ]
  },
  {
   "cell_type": "code",
   "execution_count": 51,
   "id": "58648747",
   "metadata": {},
   "outputs": [],
   "source": [
    "a=[45,25,36,96,85,74]"
   ]
  },
  {
   "cell_type": "code",
   "execution_count": 52,
   "id": "9bbf9eea",
   "metadata": {},
   "outputs": [],
   "source": [
    "# min max sum copy"
   ]
  },
  {
   "cell_type": "code",
   "execution_count": 53,
   "id": "980f0c2f",
   "metadata": {},
   "outputs": [
    {
     "data": {
      "text/plain": [
       "25"
      ]
     },
     "execution_count": 53,
     "metadata": {},
     "output_type": "execute_result"
    }
   ],
   "source": [
    "min(a)"
   ]
  },
  {
   "cell_type": "code",
   "execution_count": 54,
   "id": "e3b7b0ff",
   "metadata": {},
   "outputs": [
    {
     "data": {
      "text/plain": [
       "96"
      ]
     },
     "execution_count": 54,
     "metadata": {},
     "output_type": "execute_result"
    }
   ],
   "source": [
    "max(a)"
   ]
  },
  {
   "cell_type": "code",
   "execution_count": 55,
   "id": "e620934f",
   "metadata": {},
   "outputs": [
    {
     "data": {
      "text/plain": [
       "361"
      ]
     },
     "execution_count": 55,
     "metadata": {},
     "output_type": "execute_result"
    }
   ],
   "source": [
    "sum(a)"
   ]
  },
  {
   "cell_type": "code",
   "execution_count": 56,
   "id": "5d9d0774",
   "metadata": {},
   "outputs": [],
   "source": [
    "b=a.copy()"
   ]
  },
  {
   "cell_type": "code",
   "execution_count": 57,
   "id": "d23eba1d",
   "metadata": {},
   "outputs": [
    {
     "data": {
      "text/plain": [
       "[45, 25, 36, 96, 85, 74]"
      ]
     },
     "execution_count": 57,
     "metadata": {},
     "output_type": "execute_result"
    }
   ],
   "source": [
    "b"
   ]
  },
  {
   "cell_type": "code",
   "execution_count": 58,
   "id": "e46efa16",
   "metadata": {},
   "outputs": [],
   "source": [
    "# NESTED LIST\n"
   ]
  },
  {
   "cell_type": "code",
   "execution_count": 59,
   "id": "218fd78d",
   "metadata": {},
   "outputs": [],
   "source": [
    "c=[15,25,36,[\"yogesh\",\"sanjay\", [\"sarthak\"]],True]"
   ]
  },
  {
   "cell_type": "code",
   "execution_count": 63,
   "id": "07737b0d",
   "metadata": {},
   "outputs": [
    {
     "data": {
      "text/plain": [
       "['sarthak']"
      ]
     },
     "execution_count": 63,
     "metadata": {},
     "output_type": "execute_result"
    }
   ],
   "source": [
    "c[3][2]"
   ]
  },
  {
   "cell_type": "code",
   "execution_count": null,
   "id": "af6cb8a5",
   "metadata": {},
   "outputs": [],
   "source": []
  }
 ],
 "metadata": {
  "kernelspec": {
   "display_name": "Python 3 (ipykernel)",
   "language": "python",
   "name": "python3"
  },
  "language_info": {
   "codemirror_mode": {
    "name": "ipython",
    "version": 3
   },
   "file_extension": ".py",
   "mimetype": "text/x-python",
   "name": "python",
   "nbconvert_exporter": "python",
   "pygments_lexer": "ipython3",
   "version": "3.10.9"
  }
 },
 "nbformat": 4,
 "nbformat_minor": 5
}
