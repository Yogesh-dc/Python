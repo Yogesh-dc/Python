{
 "cells": [
  {
   "cell_type": "code",
   "execution_count": 3,
   "id": "e8d665da",
   "metadata": {},
   "outputs": [
    {
     "name": "stdout",
     "output_type": "stream",
     "text": [
      "enter value of a 1\n",
      "enter value of b -7\n",
      "enter value of c 10\n",
      "5.0 and 2.0\n"
     ]
    }
   ],
   "source": [
    "#code to calculate root values-quadratic equation\n",
    "#\"ax^2+bx+c=0\"\n",
    "\n",
    "a=eval(input(\"enter value of a \"))\n",
    "b=eval(input(\"enter value of b \"))\n",
    "c=eval(input(\"enter value of c \"))\n",
    "\n",
    "d=(((b**2)-4*a*c)**0.5)\n",
    "x1=(-b+d)/(2*a)\n",
    "x2=(-b-d)/(2**a)\n",
    "\n",
    "print(x1 ,\"and\",x2)"
   ]
  },
  {
   "cell_type": "code",
   "execution_count": 1,
   "id": "e00ad94c",
   "metadata": {},
   "outputs": [],
   "source": [
    "#for loop on range function and sequence\n",
    "#can be used when number of iteration is known\n",
    "#better is for loop-because it can be implemented on both range function and sequence\n",
    "#keyword -for\n",
    "#steps>>>>>\n",
    "#initialization-starting point\n",
    "#condition\n",
    "#updation\n",
    "#expression\n",
    "#-----------------------------------------------------------------------------------------\n",
    "#while loop on condition\n",
    "#when number of iteration is unknown\n",
    "#keyword - while\n",
    "#steps>>>>\n",
    "#initialization\n",
    "#condition\n",
    "#expression\n",
    "#updation"
   ]
  },
  {
   "cell_type": "code",
   "execution_count": 8,
   "id": "ea8a7543",
   "metadata": {},
   "outputs": [
    {
     "name": "stdout",
     "output_type": "stream",
     "text": [
      "0\n",
      "1\n",
      "2\n",
      "3\n",
      "4\n"
     ]
    }
   ],
   "source": [
    "# range function is iterable object\n",
    "#number generation\n",
    "#range stores objects\n",
    "#number nikalne ki technique ko range bolte h\n",
    "#range function takes 3 arguements\n",
    "for i in range(5):\n",
    "    print(i)\n",
    "    #ending point\n",
    "\n",
    "#initialization-start-0\n",
    "#condition-end-i\n",
    "#updation-1\n",
    "\n",
    "#sequence-list,tuple, set, dictionary..."
   ]
  },
  {
   "cell_type": "code",
   "execution_count": 11,
   "id": "e738e227",
   "metadata": {},
   "outputs": [
    {
     "name": "stdout",
     "output_type": "stream",
     "text": [
      "2 4 6 8 10 12 14 16 18 20 "
     ]
    }
   ],
   "source": [
    "#even numbers\n",
    "for i in range(2,21,2):\n",
    "    print(i, end=\" \")"
   ]
  },
  {
   "cell_type": "code",
   "execution_count": 13,
   "id": "3c2ebaa8",
   "metadata": {},
   "outputs": [
    {
     "name": "stdout",
     "output_type": "stream",
     "text": [
      "1 3 5 7 9 11 13 15 17 19 "
     ]
    }
   ],
   "source": [
    "#odd numbers\n",
    "for i in range(1,20,2):\n",
    "    print(i, end=\" \")"
   ]
  },
  {
   "cell_type": "code",
   "execution_count": 15,
   "id": "d6c54a54",
   "metadata": {},
   "outputs": [
    {
     "name": "stdout",
     "output_type": "stream",
     "text": [
      "enter a number= 5\n",
      "5 x 1 = 5\n",
      "5 x 2 = 10\n",
      "5 x 3 = 15\n",
      "5 x 4 = 20\n",
      "5 x 5 = 25\n",
      "5 x 6 = 30\n",
      "5 x 7 = 35\n",
      "5 x 8 = 40\n",
      "5 x 9 = 45\n",
      "5 x 10 = 50\n"
     ]
    }
   ],
   "source": [
    "#print table using for loop\n",
    "\n",
    "n=int(input(\"enter a number= \"))\n",
    "for i in range(1,11):\n",
    "    print(n, \"x\",i,\"=\",n*i)\n",
    "    "
   ]
  },
  {
   "cell_type": "code",
   "execution_count": 20,
   "id": "146ee133",
   "metadata": {},
   "outputs": [
    {
     "name": "stdout",
     "output_type": "stream",
     "text": [
      "1 2 3 4 5 6 7 8 9 10 11 12 13 14 15 16 17 18 19 20 21 22 23 24 25 26 27 28 29 30 31 32 33 34 35 36 37 38 39 40 41 42 43 44 45 46 47 48 49 50 51 52 53 54 55 56 57 58 59 60 61 62 63 64 65 66 67 68 69 70 71 72 73 74 75 76 77 78 79 80 81 82 83 84 85 86 87 88 89 90 91 92 93 94 95 96 97 98 99 100 "
     ]
    }
   ],
   "source": [
    "# print 1 to 100 integers\n",
    "\n",
    "i=1\n",
    "while i<=100:\n",
    "    print(i, end=\" \")\n",
    "    i+=1\n",
    "    "
   ]
  },
  {
   "cell_type": "code",
   "execution_count": 24,
   "id": "846cfaea",
   "metadata": {},
   "outputs": [
    {
     "name": "stdout",
     "output_type": "stream",
     "text": [
      "2 4 6 8 10 12 14 16 18 20 "
     ]
    }
   ],
   "source": [
    "#even\n",
    "i=2\n",
    "while (i<=20):\n",
    "    print(i, end=\" \")\n",
    "    i+=2\n",
    "    "
   ]
  },
  {
   "cell_type": "code",
   "execution_count": 23,
   "id": "4141cdfa",
   "metadata": {},
   "outputs": [
    {
     "name": "stdout",
     "output_type": "stream",
     "text": [
      "enter a number 5\n",
      "5 x 1 = 5\n",
      "5 x 2 = 10\n",
      "5 x 3 = 15\n",
      "5 x 4 = 20\n",
      "5 x 5 = 25\n",
      "5 x 6 = 30\n",
      "5 x 7 = 35\n",
      "5 x 8 = 40\n",
      "5 x 9 = 45\n",
      "5 x 10 = 50\n"
     ]
    }
   ],
   "source": [
    "# print table using while loop\n",
    "\n",
    "n=int(input(\"enter a number \"))\n",
    "i=1\n",
    "while i<=10:\n",
    "    print(n,\"x\",i,'=',n*i)\n",
    "    i+=1"
   ]
  },
  {
   "cell_type": "code",
   "execution_count": 25,
   "id": "6466df06",
   "metadata": {},
   "outputs": [
    {
     "name": "stdout",
     "output_type": "stream",
     "text": [
      "enter a number: 5\n",
      "13.0\n"
     ]
    }
   ],
   "source": [
    "#sum of n natural numbers\n",
    "#5 users\n",
    "#(n*n+1)/2\n",
    "\n",
    "n=int(input(\"enter a number: \"))\n",
    "\n",
    "b=((n*n+1)/2)\n",
    "print(b)"
   ]
  },
  {
   "cell_type": "code",
   "execution_count": 26,
   "id": "1e3cc63b",
   "metadata": {},
   "outputs": [
    {
     "name": "stdout",
     "output_type": "stream",
     "text": [
      "enter a number: 5\n",
      "15\n"
     ]
    }
   ],
   "source": [
    "n=int(input(\"enter a number: \"))\n",
    "b=sum(range(1,n+1))\n",
    "print(b)"
   ]
  },
  {
   "cell_type": "code",
   "execution_count": 14,
   "id": "d8bfebbb",
   "metadata": {},
   "outputs": [
    {
     "name": "stdout",
     "output_type": "stream",
     "text": [
      "enter a number: 10\n",
      "1 2 3 4 5 6 7 8 9 10 sum is 55\n"
     ]
    }
   ],
   "source": [
    "n=int(input(\"enter a number: \"))\n",
    "a=0\n",
    "for i in range(1,n+1):\n",
    "    a+=i\n",
    "    print(i, end=\" \")\n",
    "print( \"sum is\",a)"
   ]
  },
  {
   "cell_type": "code",
   "execution_count": 15,
   "id": "bd089f79",
   "metadata": {},
   "outputs": [
    {
     "name": "stdout",
     "output_type": "stream",
     "text": [
      "enter a number: 10\n",
      "55\n"
     ]
    }
   ],
   "source": [
    "n=int(input(\"enter a number: \"))\n",
    "i=1\n",
    "s=0\n",
    "while i<=n:\n",
    "    s+=i\n",
    "    i+=1\n",
    "print(s)"
   ]
  },
  {
   "cell_type": "code",
   "execution_count": 2,
   "id": "ed45567d",
   "metadata": {},
   "outputs": [
    {
     "name": "stdout",
     "output_type": "stream",
     "text": [
      "enter a number:7\n",
      "5040\n"
     ]
    }
   ],
   "source": [
    "#factorial sum of n natural numbers\n",
    "\n",
    "#for\n",
    "n=int(input(\"enter a number:\"))\n",
    "a=1\n",
    "for i in range(1,n+1):\n",
    "    a*=i\n",
    "print(a)"
   ]
  },
  {
   "cell_type": "code",
   "execution_count": 7,
   "id": "ab221061",
   "metadata": {},
   "outputs": [
    {
     "name": "stdout",
     "output_type": "stream",
     "text": [
      "enter a number5\n",
      "120\n"
     ]
    }
   ],
   "source": [
    "#while\n",
    "n=int(input(\"enter a number\"))\n",
    "a=1\n",
    "i=1\n",
    "while i<=n:\n",
    "    a*=i\n",
    "    i+=1\n",
    "print(a)"
   ]
  },
  {
   "cell_type": "code",
   "execution_count": 9,
   "id": "dde8f851",
   "metadata": {},
   "outputs": [],
   "source": [
    "#fibonacci\n",
    "#armstrong\n",
    "#palindrome \n",
    "#pattern printing"
   ]
  },
  {
   "cell_type": "code",
   "execution_count": 20,
   "id": "960a6bbb",
   "metadata": {},
   "outputs": [
    {
     "name": "stdout",
     "output_type": "stream",
     "text": [
      "100 99 98 97 96 95 94 93 92 91 90 89 88 87 86 85 84 83 82 81 80 79 78 77 76 75 74 73 72 71 70 69 68 67 66 65 64 63 62 61 60 59 58 57 56 55 54 53 52 51 50 49 48 47 46 45 44 43 42 41 40 39 38 37 36 35 34 33 32 31 30 29 28 27 26 25 24 23 22 21 20 19 18 17 16 15 14 13 12 11 10 9 8 7 6 5 4 3 2 1 "
     ]
    }
   ],
   "source": [
    "#print reverse number\n",
    "\n",
    "for i in range(100,0,-1):\n",
    "    print(i, end=\" \")\n",
    "    "
   ]
  },
  {
   "cell_type": "code",
   "execution_count": null,
   "id": "bd6fe99a",
   "metadata": {},
   "outputs": [],
   "source": []
  }
 ],
 "metadata": {
  "kernelspec": {
   "display_name": "Python 3 (ipykernel)",
   "language": "python",
   "name": "python3"
  },
  "language_info": {
   "codemirror_mode": {
    "name": "ipython",
    "version": 3
   },
   "file_extension": ".py",
   "mimetype": "text/x-python",
   "name": "python",
   "nbconvert_exporter": "python",
   "pygments_lexer": "ipython3",
   "version": "3.10.9"
  }
 },
 "nbformat": 4,
 "nbformat_minor": 5
}
